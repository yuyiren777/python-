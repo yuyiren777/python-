{
 "cells": [
  {
   "cell_type": "code",
   "id": "initial_id",
   "metadata": {
    "collapsed": true,
    "ExecuteTime": {
     "end_time": "2024-12-18T07:49:02.590833Z",
     "start_time": "2024-12-18T07:49:02.584105Z"
    }
   },
   "source": [
    "n = 5\n",
    "res = 1\n",
    "for i in range(1,n+1):\n",
    "    res*=i\n",
    "print(res)#这段代码的作用是计算整数 5 的阶乘。\n",
    "\n",
    "'''首先定义变量 n 并赋值为 5，接着定义变量 res 并初始化为 1。然后通过一个 for 循环，从 1 遍历到 n（即 5），在每次循环中，将 res 与当前的循环变量 i 相乘，并将结果重新赋值给 res。循环结束后，res 中存储的就是 5 的阶乘值。最后通过 print 函数输出 res 的值。'''"
   ],
   "outputs": [
    {
     "name": "stdout",
     "output_type": "stream",
     "text": [
      "120\n"
     ]
    },
    {
     "data": {
      "text/plain": [
       "'首先定义变量 n 并赋值为 5，接着定义变量 res 并初始化为 1。然后通过一个 for 循环，从 1 遍历到 n（即 5），在每次循环中，将 res 与当前的循环变量 i 相乘，并将结果重新赋值给 res。循环结束后，res 中存储的就是 5 的阶乘值。最后通过 print 函数输出 res 的值。'"
      ]
     },
     "execution_count": 196,
     "metadata": {},
     "output_type": "execute_result"
    }
   ],
   "execution_count": 196
  },
  {
   "metadata": {
    "ExecuteTime": {
     "end_time": "2024-12-18T07:49:02.640852Z",
     "start_time": "2024-12-18T07:49:02.629360Z"
    }
   },
   "cell_type": "code",
   "source": [
    "n = 20\n",
    "res = 1\n",
    "for i in range(1,n+1):\n",
    "    res*=i\n",
    "print(res)"
   ],
   "id": "b6a0fd5402d76ed2",
   "outputs": [
    {
     "name": "stdout",
     "output_type": "stream",
     "text": [
      "2432902008176640000\n"
     ]
    }
   ],
   "execution_count": 197
  },
  {
   "metadata": {
    "ExecuteTime": {
     "end_time": "2024-12-18T07:49:02.661245Z",
     "start_time": "2024-12-18T07:49:02.644868Z"
    }
   },
   "cell_type": "code",
   "source": [
    "def function(n):\n",
    "    res = 1\n",
    "    for i in range(1,n+1):\n",
    "        res*=i\n",
    "    return res\n",
    "print(function(5))\n",
    "print(function(20))\n",
    "'''这段代码定义了一个名为 function 的函数，该函数接受一个参数 n。函数的作用是计算从 1 到 n 的所有整数的乘积。\n",
    "\n",
    "在函数内部，首先将变量 res 初始化为 1。然后通过一个循环，从 1 到 n（包括 n）遍历每个整数 i，每次将 res 乘以 i。最后返回 res 的值。\n",
    "\n",
    "接着，代码调用了两次 function 函数，分别传入参数 5 和 20，并打印出结果。对于 function(5)，它会计算 1×2×3×4×5 的结果并打印；对于 function(20)，它会计算 1×2×3×……×20 的结果并打印。'''"
   ],
   "id": "23912f13e0a2b4ac",
   "outputs": [
    {
     "name": "stdout",
     "output_type": "stream",
     "text": [
      "120\n",
      "2432902008176640000\n"
     ]
    },
    {
     "data": {
      "text/plain": [
       "'这段代码定义了一个名为 function 的函数，该函数接受一个参数 n。函数的作用是计算从 1 到 n 的所有整数的乘积。\\n\\n在函数内部，首先将变量 res 初始化为 1。然后通过一个循环，从 1 到 n（包括 n）遍历每个整数 i，每次将 res 乘以 i。最后返回 res 的值。\\n\\n接着，代码调用了两次 function 函数，分别传入参数 5 和 20，并打印出结果。对于 function(5)，它会计算 1×2×3×4×5 的结果并打印；对于 function(20)，它会计算 1×2×3×……×20 的结果并打印。'"
      ]
     },
     "execution_count": 198,
     "metadata": {},
     "output_type": "execute_result"
    }
   ],
   "execution_count": 198
  },
  {
   "metadata": {
    "ExecuteTime": {
     "end_time": "2024-12-18T07:49:02.667489Z",
     "start_time": "2024-12-18T07:49:02.661245Z"
    }
   },
   "cell_type": "code",
   "source": [
    "def area_of_squre(length_of_edge):\n",
    "    squre = pow(length_of_edge,2)\n",
    "    return squre\n",
    "print(area_of_squre(8))\n",
    "'''这段代码是用 Python 语言定义了一个名为“area_of_squre”的函数，这个函数接收一个参数“length_of_edge”，表示正方形的边长。函数内部通过“pow(length_of_edge,2)”计算边长的平方，也就是正方形的面积，并将结果返回。最后调用这个函数传入参数 8，计算边长为 8 的正方形的面积并打印出来。'''"
   ],
   "id": "3918abd25178b309",
   "outputs": [
    {
     "name": "stdout",
     "output_type": "stream",
     "text": [
      "64\n"
     ]
    },
    {
     "data": {
      "text/plain": [
       "'这段代码是用 Python 语言定义了一个名为“area_of_squre”的函数，这个函数接收一个参数“length_of_edge”，表示正方形的边长。函数内部通过“pow(length_of_edge,2)”计算边长的平方，也就是正方形的面积，并将结果返回。最后调用这个函数传入参数 8，计算边长为 8 的正方形的面积并打印出来。'"
      ]
     },
     "execution_count": 199,
     "metadata": {},
     "output_type": "execute_result"
    }
   ],
   "execution_count": 199
  },
  {
   "metadata": {
    "ExecuteTime": {
     "end_time": "2024-12-18T07:49:02.675660Z",
     "start_time": "2024-12-18T07:49:02.667489Z"
    }
   },
   "cell_type": "code",
   "source": [
    "def function(x,y,z):\n",
    "    print(x,y,z)\n",
    "function(y=1,z=2,x=3)\n",
    "'''这段代码定义了一个名为 function 的函数，它接受三个参数 x、y 和 z。然后调用这个函数，并通过关键字参数的方式传入参数值，分别将 1 赋值给 y，2 赋值给 z，3 赋值给 x，最后函数会打印这三个参数的值。'''"
   ],
   "id": "9acfc7421abc8828",
   "outputs": [
    {
     "name": "stdout",
     "output_type": "stream",
     "text": [
      "3 1 2\n"
     ]
    },
    {
     "data": {
      "text/plain": [
       "'这段代码定义了一个名为 function 的函数，它接受三个参数 x、y 和 z。然后调用这个函数，并通过关键字参数的方式传入参数值，分别将 1 赋值给 y，2 赋值给 z，3 赋值给 x，最后函数会打印这三个参数的值。'"
      ]
     },
     "execution_count": 200,
     "metadata": {},
     "output_type": "execute_result"
    }
   ],
   "execution_count": 200
  },
  {
   "metadata": {
    "ExecuteTime": {
     "end_time": "2024-12-18T07:49:02.711797Z",
     "start_time": "2024-12-18T07:49:02.705099Z"
    }
   },
   "cell_type": "code",
   "source": [
    "def register(name,age,sex='male'):\n",
    "    print(name,age,sex)\n",
    "register('xiaoming',18)\n",
    "register('xiaohong',18,'female')\n",
    "'''这段代码是用 Python 语言编写的。定义了一个名为“register”的函数，它接受三个参数，分别是“name”（名字）、“age”（年龄）和可选参数“sex”（性别），默认值为“male”（男性）。\n",
    "\n",
    "接着调用了两次“register”函数。第一次调用传入了“xiaoming”和 18，由于没有传入性别参数，所以使用默认值“male”，此时会打印出“xiaoming 18 male”。\n",
    "\n",
    "第二次调用传入了“xiaohong”、18 和“female”，覆盖了默认的性别参数，此时会打印出“xiaohong 18 female”。'''"
   ],
   "id": "fecc914d2393aa01",
   "outputs": [
    {
     "name": "stdout",
     "output_type": "stream",
     "text": [
      "xiaoming 18 male\n",
      "xiaohong 18 female\n"
     ]
    },
    {
     "data": {
      "text/plain": [
       "'这段代码是用 Python 语言编写的。定义了一个名为“register”的函数，它接受三个参数，分别是“name”（名字）、“age”（年龄）和可选参数“sex”（性别），默认值为“male”（男性）。\\n\\n接着调用了两次“register”函数。第一次调用传入了“xiaoming”和 18，由于没有传入性别参数，所以使用默认值“male”，此时会打印出“xiaoming 18 male”。\\n\\n第二次调用传入了“xiaohong”、18 和“female”，覆盖了默认的性别参数，此时会打印出“xiaohong 18 female”。'"
      ]
     },
     "execution_count": 201,
     "metadata": {},
     "output_type": "execute_result"
    }
   ],
   "execution_count": 201
  },
  {
   "metadata": {
    "ExecuteTime": {
     "end_time": "2024-12-18T07:49:02.733479Z",
     "start_time": "2024-12-18T07:49:02.715838Z"
    }
   },
   "cell_type": "code",
   "source": [
    "def function(ls = []):\n",
    "    print(id(ls))\n",
    "    ls.append(1)\n",
    "    print(id(ls))\n",
    "    print(ls)\n",
    "function()\n",
    "function()\n",
    "function()\n",
    "'''这段代码定义了一个名为“function”的函数。函数接受一个默认参数“ls = []”，即一个空列表。在函数内部，首先打印出列表“ls”的内存地址（通过“id(ls)”获取），然后向列表中添加元素 1，接着再次打印列表的内存地址，最后打印出此时的列表内容。\n",
    "\n",
    "连续三次调用“function()”，每次调用都会对同一个默认参数列表进行操作，因为在 Python 中，函数的默认参数只在函数定义时被创建一次，后续的调用都会使用这个已经创建的对象。所以三次调用会不断向同一个列表中添加元素 1，并打印出相应的内存地址和列表内容。'''"
   ],
   "id": "ddbdf49aed3be665",
   "outputs": [
    {
     "name": "stdout",
     "output_type": "stream",
     "text": [
      "1952178005056\n",
      "1952178005056\n",
      "[1]\n",
      "1952178005056\n",
      "1952178005056\n",
      "[1, 1]\n",
      "1952178005056\n",
      "1952178005056\n",
      "[1, 1, 1]\n"
     ]
    },
    {
     "data": {
      "text/plain": [
       "'这段代码定义了一个名为“function”的函数。函数接受一个默认参数“ls = []”，即一个空列表。在函数内部，首先打印出列表“ls”的内存地址（通过“id(ls)”获取），然后向列表中添加元素 1，接着再次打印列表的内存地址，最后打印出此时的列表内容。\\n\\n连续三次调用“function()”，每次调用都会对同一个默认参数列表进行操作，因为在 Python 中，函数的默认参数只在函数定义时被创建一次，后续的调用都会使用这个已经创建的对象。所以三次调用会不断向同一个列表中添加元素 1，并打印出相应的内存地址和列表内容。'"
      ]
     },
     "execution_count": 202,
     "metadata": {},
     "output_type": "execute_result"
    }
   ],
   "execution_count": 202
  },
  {
   "metadata": {
    "ExecuteTime": {
     "end_time": "2024-12-18T07:49:02.783824Z",
     "start_time": "2024-12-18T07:49:02.765931Z"
    }
   },
   "cell_type": "code",
   "source": [
    "def function2(ls='python'):\n",
    "    print(id(ls))\n",
    "    ls+='3.7'\n",
    "    print(id(ls))\n",
    "    print(ls)\n",
    "function2()\n",
    "'''这段代码定义了一个名为 function2 的函数。函数接受一个参数 ls，默认值为'python'。在函数内部，首先打印出参数 ls 的内存地址（通过 id 函数获取）。然后将字符串'3.7'连接到 ls 上，接着再次打印出连接后的 ls 的内存地址，并打印出连接后的字符串内容。最后调用这个函数，输出相应结果。'''"
   ],
   "id": "bc0cfc1b1224474",
   "outputs": [
    {
     "name": "stdout",
     "output_type": "stream",
     "text": [
      "1952067468480\n",
      "1952178666608\n",
      "python3.7\n"
     ]
    },
    {
     "data": {
      "text/plain": [
       "\"这段代码定义了一个名为 function2 的函数。函数接受一个参数 ls，默认值为'python'。在函数内部，首先打印出参数 ls 的内存地址（通过 id 函数获取）。然后将字符串'3.7'连接到 ls 上，接着再次打印出连接后的 ls 的内存地址，并打印出连接后的字符串内容。最后调用这个函数，输出相应结果。\""
      ]
     },
     "execution_count": 203,
     "metadata": {},
     "output_type": "execute_result"
    }
   ],
   "execution_count": 203
  },
  {
   "metadata": {
    "ExecuteTime": {
     "end_time": "2024-12-18T07:49:02.789060Z",
     "start_time": "2024-12-18T07:49:02.783824Z"
    }
   },
   "cell_type": "code",
   "source": [
    "def name(first_name,last_name,middle_name=None):\n",
    "    if middle_name:\n",
    "        return first_name+middle_name+last_name\n",
    "    else:\n",
    "        return first_name+last_name\n",
    "print(name('小','赵'))\n",
    "name('赵','歆','予')#这种方法让参数变为可选的"
   ],
   "id": "f11c0ebab916fc47",
   "outputs": [
    {
     "name": "stdout",
     "output_type": "stream",
     "text": [
      "小赵\n"
     ]
    },
    {
     "data": {
      "text/plain": [
       "'赵予歆'"
      ]
     },
     "execution_count": 204,
     "metadata": {},
     "output_type": "execute_result"
    }
   ],
   "execution_count": 204
  },
  {
   "metadata": {
    "ExecuteTime": {
     "end_time": "2024-12-18T07:49:02.793859Z",
     "start_time": "2024-12-18T07:49:02.789060Z"
    }
   },
   "cell_type": "code",
   "source": [
    "def foo(x,y,z,*args):\n",
    "    print(x,y,z)\n",
    "    print(args)\n",
    "foo(1,2,3,4,5,4)\n",
    "'''这段代码定义了一个名为 foo 的函数。这个函数接收四个参数，前三个参数分别命名为 x、y、z，第四个参数是可变参数 *args。函数首先打印出 x、y、z 的值，然后打印出可变参数 args 的值。当调用 foo(1,2,3,4,5,4)时，1、2、3 分别赋值给 x、y、z，4、5、4 作为可变参数组成一个元组被赋值给 args。所以会打印出“1 2 3”，接着打印出“(4, 5, 4)”。'''"
   ],
   "id": "65be9186b3dc3e1a",
   "outputs": [
    {
     "name": "stdout",
     "output_type": "stream",
     "text": [
      "1 2 3\n",
      "(4, 5, 4)\n"
     ]
    },
    {
     "data": {
      "text/plain": [
       "'这段代码定义了一个名为 foo 的函数。这个函数接收四个参数，前三个参数分别命名为 x、y、z，第四个参数是可变参数 *args。函数首先打印出 x、y、z 的值，然后打印出可变参数 args 的值。当调用 foo(1,2,3,4,5,4)时，1、2、3 分别赋值给 x、y、z，4、5、4 作为可变参数组成一个元组被赋值给 args。所以会打印出“1 2 3”，接着打印出“(4, 5, 4)”。'"
      ]
     },
     "execution_count": 205,
     "metadata": {},
     "output_type": "execute_result"
    }
   ],
   "execution_count": 205
  },
  {
   "metadata": {
    "ExecuteTime": {
     "end_time": "2024-12-18T07:49:02.803841Z",
     "start_time": "2024-12-18T07:49:02.796368Z"
    }
   },
   "cell_type": "code",
   "source": [
    "def foo(x,y,z,*args):\n",
    "    print(x,y,z)\n",
    "    print(args)\n",
    "print(foo(1,2,3,[4,5,4]))\n",
    "print(foo(1,2,3,*[3,4,5,6,7,8]))\n",
    "'''这段代码定义了一个名为 foo 的函数，函数接收至少三个参数 x、y、z，以及可变数量的参数 *args。函数内部先打印出 x、y、z 的值，然后打印出 args 的值。\n",
    "\n",
    "接着进行了两次对函数 foo 的调用。第一次调用时传入了整数 1、2、3 和一个列表 [4,5,4]，此时列表 [4,5,4] 被作为一个整体作为 args 参数的值。\n",
    "\n",
    "第二次调用时传入了整数 1、2、3，以及通过解包列表 [3,4,5,6,7,8] 的方式传入多个参数，此时列表中的元素 3、4、5、6、7、8 会被作为 args 参数的值。'''"
   ],
   "id": "856fc213147cdcb6",
   "outputs": [
    {
     "name": "stdout",
     "output_type": "stream",
     "text": [
      "1 2 3\n",
      "([4, 5, 4],)\n",
      "None\n",
      "1 2 3\n",
      "(3, 4, 5, 6, 7, 8)\n",
      "None\n"
     ]
    },
    {
     "data": {
      "text/plain": [
       "'这段代码定义了一个名为 foo 的函数，函数接收至少三个参数 x、y、z，以及可变数量的参数 *args。函数内部先打印出 x、y、z 的值，然后打印出 args 的值。\\n\\n接着进行了两次对函数 foo 的调用。第一次调用时传入了整数 1、2、3 和一个列表 [4,5,4]，此时列表 [4,5,4] 被作为一个整体作为 args 参数的值。\\n\\n第二次调用时传入了整数 1、2、3，以及通过解包列表 [3,4,5,6,7,8] 的方式传入多个参数，此时列表中的元素 3、4、5、6、7、8 会被作为 args 参数的值。'"
      ]
     },
     "execution_count": 206,
     "metadata": {},
     "output_type": "execute_result"
    }
   ],
   "execution_count": 206
  },
  {
   "metadata": {
    "ExecuteTime": {
     "end_time": "2024-12-18T07:49:02.832177Z",
     "start_time": "2024-12-18T07:49:02.827641Z"
    }
   },
   "cell_type": "code",
   "source": [
    "a,*b,c=range(5)\n",
    "print(a)\n",
    "print(b)\n",
    "print(c)\n",
    "'''这段代码是 Python 中的解包赋值语句。\n",
    "\n",
    "首先，`a,*b,c=range(5)`表示将`range(5)`（即[0, 1, 2, 3, 4]）这个可迭代对象进行解包赋值。`a`被赋值为这个序列的第一个元素，即 0。`c`被赋值为这个序列的最后一个元素，即 4。`*b`表示将剩余的中间元素收集到一个列表中，所以`b`是[1, 2, 3]。\n",
    "\n",
    "然后，`print(a)`会输出 0。`print(b)`会输出[1, 2, 3]。`print(c)`会输出 4。'''"
   ],
   "id": "295301ad0d7902e8",
   "outputs": [
    {
     "name": "stdout",
     "output_type": "stream",
     "text": [
      "0\n",
      "[1, 2, 3]\n",
      "4\n"
     ]
    },
    {
     "data": {
      "text/plain": [
       "'这段代码是 Python 中的解包赋值语句。\\n\\n首先，`a,*b,c=range(5)`表示将`range(5)`（即[0, 1, 2, 3, 4]）这个可迭代对象进行解包赋值。`a`被赋值为这个序列的第一个元素，即 0。`c`被赋值为这个序列的最后一个元素，即 4。`*b`表示将剩余的中间元素收集到一个列表中，所以`b`是[1, 2, 3]。\\n\\n然后，`print(a)`会输出 0。`print(b)`会输出[1, 2, 3]。`print(c)`会输出 4。'"
      ]
     },
     "execution_count": 207,
     "metadata": {},
     "output_type": "execute_result"
    }
   ],
   "execution_count": 207
  },
  {
   "metadata": {
    "ExecuteTime": {
     "end_time": "2024-12-18T07:49:02.851050Z",
     "start_time": "2024-12-18T07:49:02.845043Z"
    }
   },
   "cell_type": "code",
   "source": [
    "def foo(x,y,z,**args):\n",
    "    print(x,y,z)\n",
    "    print(args)\n",
    "foo(1,2,3,a=4,b=5,c=6)\n",
    "'''这段代码定义了一个名为 foo 的函数，函数接收三个位置参数 x、y、z 和可变数量的关键字参数 **args。函数中先打印出位置参数 x、y、z 的值，然后打印出关键字参数组成的字典 args。最后调用 foo 函数并传入位置参数 1、2、3 和关键字参数 a=4、b=5、c=6，函数会打印出 1、2、3 和字典 {'a':4,'b':5,'c':6}。'''"
   ],
   "id": "6c318e193d545593",
   "outputs": [
    {
     "name": "stdout",
     "output_type": "stream",
     "text": [
      "1 2 3\n",
      "{'a': 4, 'b': 5, 'c': 6}\n"
     ]
    },
    {
     "data": {
      "text/plain": [
       "\"这段代码定义了一个名为 foo 的函数，函数接收三个位置参数 x、y、z 和可变数量的关键字参数 **args。函数中先打印出位置参数 x、y、z 的值，然后打印出关键字参数组成的字典 args。最后调用 foo 函数并传入位置参数 1、2、3 和关键字参数 a=4、b=5、c=6，函数会打印出 1、2、3 和字典 {'a':4,'b':5,'c':6}。\""
      ]
     },
     "execution_count": 208,
     "metadata": {},
     "output_type": "execute_result"
    }
   ],
   "execution_count": 208
  },
  {
   "metadata": {
    "ExecuteTime": {
     "end_time": "2024-12-18T07:49:02.862609Z",
     "start_time": "2024-12-18T07:49:02.851050Z"
    }
   },
   "cell_type": "code",
   "source": [
    "def multiply(a,b):\n",
    "    z=a*b\n",
    "    return z\n",
    "multiply(4,5)"
   ],
   "id": "6b4baf188d90f751",
   "outputs": [
    {
     "data": {
      "text/plain": [
       "20"
      ]
     },
     "execution_count": 209,
     "metadata": {},
     "output_type": "execute_result"
    }
   ],
   "execution_count": 209
  },
  {
   "metadata": {
    "ExecuteTime": {
     "end_time": "2024-12-18T07:49:02.878472Z",
     "start_time": "2024-12-18T07:49:02.864563Z"
    }
   },
   "cell_type": "code",
   "source": [
    "n=3\n",
    "ls=[]\n",
    "def multiply(a,b):\n",
    "    global z\n",
    "    z=a*b*n\n",
    "    ls.append(z)\n",
    "    return z\n",
    "print(multiply(4,5))\n",
    "print(ls)\n",
    "print(z)\n",
    "#这段代码定义了一个函数`multiply`，函数接收两个参数`a`和`b`。首先定义了变量`n`为 3 和一个空列表`ls`。在函数内部，定义了一个全局变量`z`，`z`的值为`a`、`b`和`n`的乘积，然后将`z`添加到列表`ls`中，最后返回`z`。调用`multiply(4,5)`时，计算`4`乘以`5`再乘以`3`得到结果为 60，并将 60 添加到列表`ls`中，最后打印出函数的返回值 60，接着打印列表`ls`，此时列表中只有一个元素 60，最后打印全局变量`z`的值 60。"
   ],
   "id": "129a5de1b4be1d75",
   "outputs": [
    {
     "name": "stdout",
     "output_type": "stream",
     "text": [
      "60\n",
      "[60]\n",
      "60\n"
     ]
    }
   ],
   "execution_count": 210
  },
  {
   "metadata": {
    "ExecuteTime": {
     "end_time": "2024-12-18T07:49:02.913841Z",
     "start_time": "2024-12-18T07:49:02.905250Z"
    }
   },
   "cell_type": "code",
   "source": [
    "def multiply(a,b):\n",
    "    global s\n",
    "    s=a*b\n",
    "    return s\n",
    "multiply(4,5)\n",
    "print(s)#这段代码定义了一个名为“multiply”的函数，该函数接受两个参数“a”和“b”。在函数内部，使用“global”关键字声明了一个全局变量“s”，并将“a”和“b”的乘积赋值给“s”，然后返回“s”的值。接着调用“multiply(4, 5)”，将 4 和 5 作为参数传入函数，函数内部计算 4 乘以 5 的结果为 20，并将这个结果赋值给全局变量“s”。最后打印出全局变量“s”的值，即 20。"
   ],
   "id": "a9aa8e25047fad73",
   "outputs": [
    {
     "name": "stdout",
     "output_type": "stream",
     "text": [
      "20\n"
     ]
    }
   ],
   "execution_count": 211
  },
  {
   "metadata": {
    "ExecuteTime": {
     "end_time": "2024-12-18T07:49:02.928737Z",
     "start_time": "2024-12-18T07:49:02.920345Z"
    }
   },
   "cell_type": "code",
   "source": [
    "def roo(x):\n",
    "    return 1,x,x**2,x**3\n",
    "roo(3)#这段代码定义了一个名为“roo”的函数，这个函数接收一个参数“x”。函数的作用是返回一个包含四个值的元组，分别是数字 1、传入的参数“x”、“x”的平方以及“x”的立方。当调用“roo(3)”时，会返回(1, 3, 9, 27)，即 1、3、3 的平方（9）、3 的立方（27）组成的元组。"
   ],
   "id": "f6a662a45c9d8580",
   "outputs": [
    {
     "data": {
      "text/plain": [
       "(1, 3, 9, 27)"
      ]
     },
     "execution_count": 212,
     "metadata": {},
     "output_type": "execute_result"
    }
   ],
   "execution_count": 212
  },
  {
   "metadata": {
    "ExecuteTime": {
     "end_time": "2024-12-18T07:49:02.952390Z",
     "start_time": "2024-12-18T07:49:02.949329Z"
    }
   },
   "cell_type": "code",
   "source": [
    "a,b,c,d=roo(3)\n",
    "print(a,b,c,d)\n",
    "#调用了foo(3)，并将返回的元组解包赋值给四个变量：a、b、c、d。\n",
    "#分别打印出这四个变量的值"
   ],
   "id": "314188c61fe645f8",
   "outputs": [
    {
     "name": "stdout",
     "output_type": "stream",
     "text": [
      "1 3 9 27\n"
     ]
    }
   ],
   "execution_count": 213
  },
  {
   "metadata": {
    "ExecuteTime": {
     "end_time": "2024-12-18T07:49:02.957620Z",
     "start_time": "2024-12-18T07:49:02.952390Z"
    }
   },
   "cell_type": "code",
   "source": [
    "def is_holiday(day):\n",
    "    if day in['sunday','saturday']:\n",
    "        return 'is_holiday'\n",
    "    else:\n",
    "        return 'not_holiday'\n",
    "print(is_holiday('sunday'))\n",
    "print(is_holiday('monday'))#这段代码定义了一个名为“is_holiday”的函数，该函数接收一个参数“day”。如果“day”的值是“sunday”或者“saturday”，函数就返回“is_holiday”；如果“day”不是这两个值中的任何一个，函数就返回“not_holiday”。接着，代码调用这个函数分别传入“sunday”和“monday”，并打印出对应的结果。第一次调用会打印“is_holiday”，第二次调用会打印“not_holiday”。"
   ],
   "id": "debbe536db19967a",
   "outputs": [
    {
     "name": "stdout",
     "output_type": "stream",
     "text": [
      "is_holiday\n",
      "not_holiday\n"
     ]
    }
   ],
   "execution_count": 214
  },
  {
   "metadata": {
    "ExecuteTime": {
     "end_time": "2024-12-18T07:49:11.395433Z",
     "start_time": "2024-12-18T07:49:02.965623Z"
    }
   },
   "cell_type": "code",
   "source": [
    "def get_inputs():\n",
    "    # 获取用户输入的运动员A每球获胜的概率，eval函数会尝试将输入的字符串解析为有效的Python表达式并求值\n",
    "    prob_a = eval(input(\"请输入运动员A每球获胜的概率\"))\n",
    "    # 根据运动员A每球获胜概率计算运动员B每球获胜概率，保留两位小数\n",
    "    prob_b = round(1 - prob_a, 2)\n",
    "    # 获取用户输入的要比赛的次数，eval函数同样会解析输入字符串为Python表达式并求值，这里要求必须输入整数\n",
    "    number_of_games = eval(input(\"请输入要比赛的次数，必须是整数\"))\n",
    "    # 打印总比赛次数\n",
    "    print(\"总次数:\", number_of_games)\n",
    "    # 打印运动员A获胜的概率\n",
    "    print(\"A获胜的概率:\", prob_a)\n",
    "    # 打印运动员B获胜的概率\n",
    "    print(\"B获胜的概率：\", prob_b)\n",
    "    # 返回运动员A、B每球获胜概率以及比赛总次数\n",
    "    return prob_a, prob_b, number_of_games\n",
    "\n",
    "# 调用get_inputs函数，获取相应的输入值并分别赋值给prob_a、prob_b、number_of_games变量\n",
    "prob_a, prob_b, number_of_games = get_inputs()\n",
    "# 打印获取到的运动员A、B每球获胜概率以及比赛总次数\n",
    "print(prob_a, prob_b, number_of_games)\n",
    "\n",
    "\n",
    "def sim_n_games(prob_a, prob_b, number_of_games):\n",
    "    # 初始化运动员A和运动员B赢得比赛的场次计数，初始值都为0\n",
    "    win_A, win_B = 0, 0\n",
    "    # 循环模拟指定次数的比赛\n",
    "    for i in range(number_of_games):\n",
    "        # 模拟一场比赛，获取运动员A和运动员B在这一场比赛中的得分\n",
    "        score_A, score_B = sim_one_game(prob_a, prob_b)\n",
    "        # 如果运动员A的得分高于运动员B的得分，运动员A赢得这场比赛，对应赢的场次计数加1\n",
    "        if score_A > score_B:\n",
    "            win_A += 1\n",
    "        # 否则运动员B赢得这场比赛，运动员B赢的场次计数加1\n",
    "        else:\n",
    "            win_B += 1\n",
    "    # 返回运动员A和运动员B赢得比赛的场次\n",
    "    return win_A, win_B\n",
    "\n",
    "\n",
    "def sim_one_game(prob_a, prob_b):\n",
    "    # 导入random模块，用于生成随机数来模拟比赛中球的胜负情况\n",
    "    import random\n",
    "    # 初始化运动员A和运动员B在这场比赛中的得分，初始值都为0\n",
    "    score_A, score_B = 0, 0\n",
    "    # 只要比赛未结束，就持续循环模拟球的争夺情况\n",
    "    while not game_over(score_A, score_B):\n",
    "        # 生成一个0到1之间的随机数，如果这个随机数小于运动员A每球获胜的概率，则运动员A得分\n",
    "        if random.random() < prob_a:\n",
    "            score_A += 1\n",
    "        # 否则运动员B得分\n",
    "        else:\n",
    "            score_B += 1\n",
    "    # 返回运动员A和运动员B在这场比赛中的最终得分\n",
    "    return score_A, score_B\n",
    "\n",
    "\n",
    "def game_over(score_A, score_B):\n",
    "    # 判断比赛是否结束，当运动员A或者运动员B的得分达到21时，比赛结束，返回True\n",
    "    if score_A == 21 or score_B == 21:\n",
    "        return True\n",
    "\n",
    "\n",
    "# 调用sim_n_games函数，模拟多场比赛，获取运动员A和运动员B赢得比赛的场次\n",
    "win_A, win_B = sim_n_games(prob_a, prob_b, number_of_games)\n",
    "# 打印模拟比赛的总场数\n",
    "print(\"共模拟了{}场比赛\".format(number_of_games))\n",
    "# 打印运动员A赢得比赛的场次\n",
    "print(\"球员A赢了{}次，获胜占比是{}\".format(win_A,win_A/number_of_games))\n",
    "# 打印运动员B赢得比赛的场次\n",
    "print(\"球员B赢了{}次，获胜占比是{}\".format(win_B,win_B/number_of_games))"
   ],
   "id": "bba37d89a7e5b66d",
   "outputs": [
    {
     "name": "stdout",
     "output_type": "stream",
     "text": [
      "总次数: 88\n",
      "A获胜的概率: 0.77\n",
      "B获胜的概率： 0.23\n",
      "0.77 0.23 88\n",
      "共模拟了88场比赛\n",
      "球员A赢了88次，获胜占比是1.0\n",
      "球员B赢了0次，获胜占比是0.0\n"
     ]
    }
   ],
   "execution_count": 215
  },
  {
   "metadata": {},
   "cell_type": "markdown",
   "source": "根据匿名函数进行排序",
   "id": "a1425410e608e2a2"
  },
  {
   "metadata": {
    "ExecuteTime": {
     "end_time": "2024-12-18T07:49:11.407310Z",
     "start_time": "2024-12-18T07:49:11.395433Z"
    }
   },
   "cell_type": "code",
   "source": [
    "ls = [(93,88),(79,100),(86,71),(85,85),(76,94)]\n",
    "ls.sort()\n",
    "ls\n",
    "#这段代码首先创建了一个包含多个元组的列表 `ls`。每个元组中包含两个数字。然后使用 `sort()` 方法对列表 `ls` 进行排序。排序后的列表 `ls` 会按照元组中元素的默认顺序进行排序，通常是先比较元组的第一个元素，如果相等再比较第二个元素。最后，代码中再次输出排序后的列表 `ls`。"
   ],
   "id": "3c88410c608c2bd9",
   "outputs": [
    {
     "data": {
      "text/plain": [
       "[(76, 94), (79, 100), (85, 85), (86, 71), (93, 88)]"
      ]
     },
     "execution_count": 216,
     "metadata": {},
     "output_type": "execute_result"
    }
   ],
   "execution_count": 216
  },
  {
   "metadata": {
    "ExecuteTime": {
     "end_time": "2024-12-18T07:49:36.297748Z",
     "start_time": "2024-12-18T07:49:36.292283Z"
    }
   },
   "cell_type": "code",
   "source": [
    "ls.sort(key=lambda x:x[1])\n",
    "print(ls)#这段代码的作用是对列表`ls`按照每个元素中索引为 1 的值进行排序，排序规则由`lambda`表达式指定。排序完成后，再次输出列表`ls`。\n",
    "'''首先，`ls.sort()`是对列表`ls`进行排序的方法。`key=lambda x:x[1]`表示以每个元素（这里用`x`表示）的索引为 1 的值作为排序的依据。`lambda`是一个匿名函数，在这里它接收一个参数`x`，并返回`x[1]`，也就是元素`x`中索引为 1 的值。\n",
    "\n",
    "例如，如果`ls = [[1, 3], [2, 2], [3, 1]]`，那么排序后`ls`将变为`[[3, 1], [2, 2], [1, 3]]`。因为按照每个子列表中索引为 1 的值进行排序，`1`、`2`、`3`的顺序决定了整个列表的排序结果。'''"
   ],
   "id": "3d65275c98390880",
   "outputs": [
    {
     "name": "stdout",
     "output_type": "stream",
     "text": [
      "[(86, 71), (85, 85), (93, 88), (76, 94), (79, 100)]\n"
     ]
    },
    {
     "data": {
      "text/plain": [
       "'首先，`ls.sort()`是对列表`ls`进行排序的方法。`key=lambda x:x[1]`表示以每个元素（这里用`x`表示）的索引为 1 的值作为排序的依据。`lambda`是一个匿名函数，在这里它接收一个参数`x`，并返回`x[1]`，也就是元素`x`中索引为 1 的值。\\n\\n例如，如果`ls = [[1, 3], [2, 2], [3, 1]]`，那么排序后`ls`将变为`[[3, 1], [2, 2], [1, 3]]`。因为按照每个子列表中索引为 1 的值进行排序，`1`、`2`、`3`的顺序决定了整个列表的排序结果。'"
      ]
     },
     "execution_count": 218,
     "metadata": {},
     "output_type": "execute_result"
    }
   ],
   "execution_count": 218
  },
  {
   "metadata": {
    "ExecuteTime": {
     "end_time": "2024-12-18T07:51:14.626290Z",
     "start_time": "2024-12-18T07:51:14.615177Z"
    }
   },
   "cell_type": "code",
   "source": [
    "ls = [(3,8),(9,10),(2,7),(5,5),(6,4)]\n",
    "temp = sorted(ls, key=lambda x:x[1])\n",
    "print(temp)#这段代码首先定义了一个列表 `ls`，其中包含多个由两个数字组成的元组。然后使用 `sorted` 函数对这个列表进行排序，排序的依据是每个元组中的第二个元素，通过 `key=lambda x:x[1]` 指定了这个排序规则。最后打印出排序后的列表。"
   ],
   "id": "d5b2399db0fa55a2",
   "outputs": [
    {
     "name": "stdout",
     "output_type": "stream",
     "text": [
      "[(6, 4), (5, 5), (2, 7), (3, 8), (9, 10)]\n"
     ]
    }
   ],
   "execution_count": 219
  },
  {
   "metadata": {
    "ExecuteTime": {
     "end_time": "2024-12-18T07:53:54.291666Z",
     "start_time": "2024-12-18T07:53:54.284892Z"
    }
   },
   "cell_type": "code",
   "source": [
    "ls = [(3,8),(9,10),(2,7),(5,5),(6,4)]\n",
    "temp = sorted(ls, key=lambda x:x[1]+x[0], reverse=True)\n",
    "print(temp)\n",
    "#这段代码的作用是创建一个包含多个二元组的列表`ls`，然后使用`sorted`函数根据每个二元组中两个元素之和的大小进行降序排序，并打印排序后的结果。\n",
    "\n",
    "'''首先，定义了列表`ls`，其中每个元素都是一个包含两个整数的元组。\n",
    "\n",
    "接着，使用`sorted`函数对`ls`进行排序。`key=lambda x:x[1]+x[0]`表示以每个元组中第二个元素和第一个元素之和作为排序的依据。`reverse=True`表示按照降序进行排序。\n",
    "\n",
    "最后，打印出排序后的结果。'''"
   ],
   "id": "c0560dfa58916d69",
   "outputs": [
    {
     "name": "stdout",
     "output_type": "stream",
     "text": [
      "[(9, 10), (3, 8), (5, 5), (6, 4), (2, 7)]\n"
     ]
    },
    {
     "data": {
      "text/plain": [
       "'首先，定义了列表`ls`，其中每个元素都是一个包含两个整数的元组。\\n\\n接着，使用`sorted`函数对`ls`进行排序。`key=lambda x:x[1]+x[0]`表示以每个元组中第二个元素和第一个元素之和作为排序的依据。`reverse=True`表示按照降序进行排序。\\n\\n最后，打印出排序后的结果。'"
      ]
     },
     "execution_count": 221,
     "metadata": {},
     "output_type": "execute_result"
    }
   ],
   "execution_count": 221
  },
  {
   "metadata": {
    "ExecuteTime": {
     "end_time": "2024-12-18T07:55:55.870848Z",
     "start_time": "2024-12-18T07:55:55.866233Z"
    }
   },
   "cell_type": "code",
   "source": [
    "ls = [(3,8),(9,10),(2,7),(5,5),(6,4)]\n",
    "temp = max(ls, key=lambda x:x[1])\n",
    "print(temp)\n",
    "temp1 = min(ls, key=lambda x:x[0])\n",
    "print(temp1)\n",
    "#这段代码首先定义了一个列表`ls`，其中包含多个由两个整数组成的元组。然后使用`max`函数和一个以元组中第二个元素为依据的匿名函数（`lambda x:x[1]`），找到`ls`中第二个元素值最大的元组，并将其赋值给`temp`，接着打印`temp`。接着使用`min`函数和一个以元组中第一个元素为依据的匿名函数（`lambda x:x[0]`），找到`ls`中第一个元素值最小的元组，并将其赋值给`temp1`，最后打印`temp1`。"
   ],
   "id": "6e3cb0afc83e2d9e",
   "outputs": [
    {
     "name": "stdout",
     "output_type": "stream",
     "text": [
      "(9, 10)\n",
      "(2, 7)\n"
     ]
    }
   ],
   "execution_count": 222
  },
  {
   "metadata": {},
   "cell_type": "code",
   "outputs": [],
   "execution_count": null,
   "source": "",
   "id": "1539b185bdc98349"
  }
 ],
 "metadata": {
  "kernelspec": {
   "display_name": "Python 3",
   "language": "python",
   "name": "python3"
  },
  "language_info": {
   "codemirror_mode": {
    "name": "ipython",
    "version": 2
   },
   "file_extension": ".py",
   "mimetype": "text/x-python",
   "name": "python",
   "nbconvert_exporter": "python",
   "pygments_lexer": "ipython2",
   "version": "2.7.6"
  }
 },
 "nbformat": 4,
 "nbformat_minor": 5
}
